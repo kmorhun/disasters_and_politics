{
 "cells": [
  {
   "cell_type": "markdown",
   "metadata": {},
   "source": [
    "# Time Series Analysis"
   ]
  },
  {
   "cell_type": "code",
   "execution_count": 8,
   "metadata": {},
   "outputs": [],
   "source": [
    "import numpy as np\n",
    "import matplotlib.pyplot as plt\n",
    "import pandas as pd\n",
    "import geopandas as gpd\n",
    "import os\n",
    "import statsmodels.api as sm\n",
    "from datetime import datetime, timedelta\n",
    "from scipy import stats"
   ]
  },
  {
   "cell_type": "code",
   "execution_count": 3,
   "metadata": {},
   "outputs": [],
   "source": [
    "cwd = os.getcwd()\n",
    "date_format = \"%Y-%m-%d\"\n",
    "TORNADO_PATH = os.path.join(cwd, \"..\", \"data/tornadoes/US_tornadoes_2000_2022.csv\")\n",
    "TORNADO_SHAPEFILE = os.path.join(cwd, \"..\", \"data/geographic/US_tornadoes_1950_2022/US_tornadoes_1950_2022.shp\")\n",
    "COUNTIES_PATH = os.path.join(cwd, \"..\", \"data/counties/2018_counties.csv\")\n",
    "COUNTIES_SHAPEFILE = os.path.join(cwd, \"..\", \"data/geographic/cb_2018_us_county_5m/cb_2018_us_county_5m.shp\")\n",
    "INTERSECTION_PATH = os.path.join(cwd, \"..\", \"data/tornado_county_intersections.csv\")\n",
    "PERCENT_PATH = os.path.join(cwd, \"..\", \"data/tornadoes_and_counties_new.csv\")\n",
    "RESULTS_PATH = os.path.join(cwd, \"..\", \"data/results_2000s.csv\")"
   ]
  },
  {
   "cell_type": "code",
   "execution_count": 10,
   "metadata": {},
   "outputs": [],
   "source": [
    "def extract_mean_dev(data_vote, county_id):\n",
    "    data_county = data_vote[data_vote[\"fips\"]==county_id]\n",
    "    votes = np.array([data_county[\"2004\"][0], data_county[\"2008\"][0], data_county[\"2012\"][0], data_county[\"2016\"][0], data_county[\"2020\"][0]])\n",
    "    mean = np.mean(votes)\n",
    "    std_dev = np.std(votes)\n",
    "    return (mean,std_dev)\n",
    "\n",
    "def extractMonths(data_tornado, county_id, startDate, endDate, duration):\n",
    "    output = []\n",
    "    currentDate = startDate\n",
    "    data_county = data_tornado[data_tornado[\"GEOID\"] == county_id]\n",
    "    \n",
    "    while currentDate<= endDate:\n",
    "        data_filtered = data_county[datetime.strftime(data_county[\"date\"],date_format) >= startDate]\n",
    "        data_filtered = data_filtered[datetime.strftime(data_filtered[\"date\"],date_format) < startDate+ duration]\n",
    "        tornadoCount_nonzero = len(data_filtered[data_filtered[\"loss\"]>0])\n",
    "        costAgg = sum(data_filtered[\"loss\"])\n",
    "        casualties = sum(data_filtered[\"fat\"])+sum(data_filtered[\"inj\"])\n",
    "        \n",
    "        output.append([tornadoCount_nonzero,costAgg,casualties])\n",
    "        currentDate+=duration\n",
    "    \n",
    "    return np.array(output)\n",
    "\n",
    "\n",
    "        \n",
    "        \n",
    "    \n",
    "    "
   ]
  },
  {
   "cell_type": "code",
   "execution_count": 13,
   "metadata": {},
   "outputs": [
    {
     "ename": "TypeError",
     "evalue": "descriptor 'strftime' for 'datetime.date' objects doesn't apply to a 'Series' object",
     "output_type": "error",
     "traceback": [
      "\u001b[0;31m---------------------------------------------------------------------------\u001b[0m",
      "\u001b[0;31mTypeError\u001b[0m                                 Traceback (most recent call last)",
      "Cell \u001b[0;32mIn[13], line 16\u001b[0m\n\u001b[1;32m     12\u001b[0m         \u001b[38;5;28;01mbreak\u001b[39;00m\n\u001b[1;32m     14\u001b[0m     \u001b[38;5;66;03m# print(startTime)\u001b[39;00m\n\u001b[0;32m---> 16\u001b[0m \u001b[43mrunTimeSeries\u001b[49m\u001b[43m(\u001b[49m\u001b[43m)\u001b[49m\n",
      "Cell \u001b[0;32mIn[13], line 10\u001b[0m, in \u001b[0;36mrunTimeSeries\u001b[0;34m()\u001b[0m\n\u001b[1;32m      8\u001b[0m endTime \u001b[38;5;241m=\u001b[39m datetime\u001b[38;5;241m.\u001b[39mstrptime(\u001b[38;5;124m\"\u001b[39m\u001b[38;5;124m2020-12-30\u001b[39m\u001b[38;5;124m\"\u001b[39m,date_format)\n\u001b[1;32m      9\u001b[0m \u001b[38;5;28;01mfor\u001b[39;00m county_id \u001b[38;5;129;01min\u001b[39;00m counties:\n\u001b[0;32m---> 10\u001b[0m     countyData \u001b[38;5;241m=\u001b[39m \u001b[43mextractMonths\u001b[49m\u001b[43m(\u001b[49m\u001b[43mdata_tornado\u001b[49m\u001b[43m,\u001b[49m\u001b[43mcounty_id\u001b[49m\u001b[43m,\u001b[49m\u001b[43m \u001b[49m\u001b[43mstartTime\u001b[49m\u001b[43m,\u001b[49m\u001b[43mendTime\u001b[49m\u001b[43m,\u001b[49m\u001b[43mduration\u001b[49m\u001b[43m)\u001b[49m\n\u001b[1;32m     11\u001b[0m     \u001b[38;5;28mprint\u001b[39m(countyData)\n\u001b[1;32m     12\u001b[0m     \u001b[38;5;28;01mbreak\u001b[39;00m\n",
      "Cell \u001b[0;32mIn[10], line 14\u001b[0m, in \u001b[0;36mextractMonths\u001b[0;34m(data_tornado, county_id, startDate, endDate, duration)\u001b[0m\n\u001b[1;32m     11\u001b[0m data_county \u001b[38;5;241m=\u001b[39m data_tornado[data_tornado[\u001b[38;5;124m\"\u001b[39m\u001b[38;5;124mGEOID\u001b[39m\u001b[38;5;124m\"\u001b[39m] \u001b[38;5;241m==\u001b[39m county_id]\n\u001b[1;32m     13\u001b[0m \u001b[38;5;28;01mwhile\u001b[39;00m currentDate\u001b[38;5;241m<\u001b[39m\u001b[38;5;241m=\u001b[39m endDate:\n\u001b[0;32m---> 14\u001b[0m     data_filtered \u001b[38;5;241m=\u001b[39m data_county[\u001b[43mdatetime\u001b[49m\u001b[38;5;241;43m.\u001b[39;49m\u001b[43mstrftime\u001b[49m\u001b[43m(\u001b[49m\u001b[43mdata_county\u001b[49m\u001b[43m[\u001b[49m\u001b[38;5;124;43m\"\u001b[39;49m\u001b[38;5;124;43mdate\u001b[39;49m\u001b[38;5;124;43m\"\u001b[39;49m\u001b[43m]\u001b[49m\u001b[43m,\u001b[49m\u001b[43mdate_format\u001b[49m\u001b[43m)\u001b[49m \u001b[38;5;241m>\u001b[39m\u001b[38;5;241m=\u001b[39m startDate]\n\u001b[1;32m     15\u001b[0m     data_filtered \u001b[38;5;241m=\u001b[39m data_filtered[datetime\u001b[38;5;241m.\u001b[39mstrftime(data_filtered[\u001b[38;5;124m\"\u001b[39m\u001b[38;5;124mdate\u001b[39m\u001b[38;5;124m\"\u001b[39m],date_format) \u001b[38;5;241m<\u001b[39m startDate\u001b[38;5;241m+\u001b[39m duration]\n\u001b[1;32m     16\u001b[0m     tornadoCount_nonzero \u001b[38;5;241m=\u001b[39m \u001b[38;5;28mlen\u001b[39m(data_filtered[data_filtered[\u001b[38;5;124m\"\u001b[39m\u001b[38;5;124mmag\u001b[39m\u001b[38;5;124m\"\u001b[39m]\u001b[38;5;241m>\u001b[39m\u001b[38;5;241m0\u001b[39m])\n",
      "\u001b[0;31mTypeError\u001b[0m: descriptor 'strftime' for 'datetime.date' objects doesn't apply to a 'Series' object"
     ]
    }
   ],
   "source": [
    "def runTimeSeries():\n",
    "    data_tornado = pd.read_csv(PERCENT_PATH)\n",
    "    data_vote = pd.read_csv(RESULTS_PATH)\n",
    "    \n",
    "    counties = set(data_vote[\"fips\"])\n",
    "    duration = timedelta(weeks = 4)\n",
    "    startTime = datetime.strptime(\"2000-01-01\",date_format)\n",
    "    endTime = datetime.strptime(\"2020-12-30\",date_format)\n",
    "    for county_id in counties:\n",
    "        countyData = extractMonths(data_tornado,county_id, startTime,endTime,duration)\n",
    "        print(countyData)\n",
    "        break\n",
    "    \n",
    "    # print(startTime)\n",
    "    \n",
    "runTimeSeries()"
   ]
  }
 ],
 "metadata": {
  "kernelspec": {
   "display_name": ".venv",
   "language": "python",
   "name": "python3"
  },
  "language_info": {
   "codemirror_mode": {
    "name": "ipython",
    "version": 3
   },
   "file_extension": ".py",
   "mimetype": "text/x-python",
   "name": "python",
   "nbconvert_exporter": "python",
   "pygments_lexer": "ipython3",
   "version": "3.11.8"
  }
 },
 "nbformat": 4,
 "nbformat_minor": 2
}
