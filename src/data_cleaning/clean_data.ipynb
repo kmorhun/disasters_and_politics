{
 "cells": [
  {
   "cell_type": "markdown",
   "metadata": {},
   "source": [
    "# Cleaning Drought Data\n",
    "\n",
    "From Drought Monitor: https://droughtmonitor.unl.edu/Data.aspx \n",
    "\n",
    "Alternatively, try to find the data we want from here: https://droughtmonitor.unl.edu/DmData/DataDownload/ComprehensiveStatistics.aspx\n",
    "\n",
    "> Please note, shapefiles prior to 2004 have been digitized from the image archive. Preliminary error\n",
    "> analysis indicates that the digitized datasets have a horizontal error of approximately 4 miles when\n",
    "> compared to authored datasets. For comparison, the drought impacts line in a georeferenced image is\n",
    "> approximately 12 miles wide"
   ]
  },
  {
   "cell_type": "code",
   "execution_count": null,
   "metadata": {
    "vscode": {
     "languageId": "plaintext"
    }
   },
   "outputs": [],
   "source": []
  },
  {
   "cell_type": "markdown",
   "metadata": {},
   "source": [
    "# Cleaning Earthquake Data"
   ]
  },
  {
   "cell_type": "markdown",
   "metadata": {},
   "source": [
    "From the US Geological Survey.\n",
    "Alternatively, try to find the data we want from here: https://earthquake.usgs.gov/earthquakes/search/\n",
    "\n",
    "Explanation of fields: https://earthquake.usgs.gov/data/comcat/data-eventterms.php "
   ]
  },
  {
   "cell_type": "code",
   "execution_count": null,
   "metadata": {
    "vscode": {
     "languageId": "plaintext"
    }
   },
   "outputs": [],
   "source": []
  },
  {
   "cell_type": "markdown",
   "metadata": {},
   "source": [
    "# Cleaning Tornado Data\n",
    "From the Storm Prediction Center: https://www.spc.noaa.gov/gis/svrgis/ \n",
    "\n",
    "Explanation of fields:\n",
    "https://www.spc.noaa.gov/wcm/data/SPC_severe_database_description.pdf "
   ]
  },
  {
   "cell_type": "code",
   "execution_count": null,
   "metadata": {
    "vscode": {
     "languageId": "plaintext"
    }
   },
   "outputs": [],
   "source": []
  }
 ],
 "metadata": {
  "language_info": {
   "name": "python"
  }
 },
 "nbformat": 4,
 "nbformat_minor": 2
}
