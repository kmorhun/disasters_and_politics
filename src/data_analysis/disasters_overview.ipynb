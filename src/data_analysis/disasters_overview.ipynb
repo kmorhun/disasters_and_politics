{
 "cells": [
  {
   "cell_type": "markdown",
   "metadata": {},
   "source": [
    "# Preliminary analysis of three natural disaster geospatial datasets"
   ]
  },
  {
   "cell_type": "code",
   "execution_count": 7,
   "metadata": {},
   "outputs": [],
   "source": [
    "import pandas as pd"
   ]
  },
  {
   "cell_type": "code",
   "execution_count": 8,
   "metadata": {},
   "outputs": [],
   "source": [
    "# replace these with cleaned versions of the data\n",
    "data_filepath = \"../../data\"\n",
    "tornado_filepath = data_filepath + \"/tornadoes/US_tornadoes_2000_2022.csv\"\n",
    "earthquakes_filepath = data_filepath + \"/earthquakes/US_earthquakes_2007_2022.csv\"\n",
    "droughts_filepath = data_filepath + \"/droughts/US_droughts_2000_2022.csv\""
   ]
  },
  {
   "cell_type": "markdown",
   "metadata": {},
   "source": [
    "## Tornadoes"
   ]
  },
  {
   "cell_type": "code",
   "execution_count": 9,
   "metadata": {},
   "outputs": [
    {
     "name": "stdout",
     "output_type": "stream",
     "text": [
      "   OID_     om      yr   mo    dy        date      time   tz  st   stf  ...  \\\n",
      "0     1  752.0  2000.0  4.0  27.0  2000-04-27  12:58:00  3.0  MN  27.0  ...   \n",
      "1     2  183.0  2000.0  4.0  28.0  2000-04-28  11:45:00  3.0  NC  37.0  ...   \n",
      "2     3  142.0  2000.0  4.0  28.0  2000-04-28  17:00:00  3.0  OR  41.0  ...   \n",
      "3     4  732.0  2000.0  4.0  30.0  2000-04-30  13:20:00  3.0  TX  48.0  ...   \n",
      "4     5  733.0  2000.0  4.0  30.0  2000-04-30  14:07:00  3.0  TX  48.0  ...   \n",
      "\n",
      "    slat    slon   elat    elon  len   wid   fc  Month_Calc  \\\n",
      "0  44.95  -95.62  44.95  -95.62  0.1  10.0  0.0           3   \n",
      "1  34.55  -77.93  34.55  -77.93  1.0  50.0  0.0           3   \n",
      "2  45.87 -122.82  45.87 -122.82  0.1  10.0  0.0           3   \n",
      "3  34.02 -100.68  34.02 -100.68  0.1  30.0  0.0           3   \n",
      "4  34.02 -100.37  34.02 -100.37  0.1  30.0  0.0           3   \n",
      "\n",
      "           Date_Calc  Shape__Length  \n",
      "0  4/27/2000 4:00:00            NaN  \n",
      "1  4/28/2000 4:00:00            NaN  \n",
      "2  4/28/2000 4:00:00            NaN  \n",
      "3  4/30/2000 4:00:00            NaN  \n",
      "4  4/30/2000 4:00:00            NaN  \n",
      "\n",
      "[5 rows x 26 columns]\n"
     ]
    }
   ],
   "source": [
    "tornadoes = pd.read_csv(tornado_filepath)\n",
    "print(tornadoes.head())"
   ]
  },
  {
   "cell_type": "markdown",
   "metadata": {},
   "source": [
    "## Droughts"
   ]
  },
  {
   "cell_type": "code",
   "execution_count": 12,
   "metadata": {},
   "outputs": [
    {
     "name": "stdout",
     "output_type": "stream",
     "text": [
      "    OID_    period  dm       filename  endyear  endmonth  endday  \\\n",
      "0  10871  20000104   0  USDM_20000104     2000         1       4   \n",
      "1  10872  20000104   1  USDM_20000104     2000         1       4   \n",
      "2  10873  20000104   2  USDM_20000104     2000         1       4   \n",
      "3  10874  20000111   0  USDM_20000111     2000         1      11   \n",
      "4  10875  20000111   1  USDM_20000111     2000         1      11   \n",
      "\n",
      "               ddate              zipname  \\\n",
      "0   1/4/2000 0:00:00  USDM_20000104_M.zip   \n",
      "1   1/4/2000 0:00:00  USDM_20000104_M.zip   \n",
      "2   1/4/2000 0:00:00  USDM_20000104_M.zip   \n",
      "3  1/11/2000 0:00:00  USDM_20000111_M.zip   \n",
      "4  1/11/2000 0:00:00  USDM_20000111_M.zip   \n",
      "\n",
      "                                              source  ...     d1    d2   d3  \\\n",
      "0  http://droughtmonitor.unl.edu/data/shapefiles_...  ...  11.71  7.90  0.0   \n",
      "1  http://droughtmonitor.unl.edu/data/shapefiles_...  ...  11.71  7.90  0.0   \n",
      "2  http://droughtmonitor.unl.edu/data/shapefiles_...  ...  11.71  7.90  0.0   \n",
      "3  http://droughtmonitor.unl.edu/data/shapefiles_...  ...  12.66  8.27  0.0   \n",
      "4  http://droughtmonitor.unl.edu/data/shapefiles_...  ...  12.66  8.27  0.0   \n",
      "\n",
      "    d4  D0_D4  D1_D4  D2_D4  D3_D4   Shape__Area  Shape__Length  \n",
      "0  0.0  42.71  19.61   7.90    0.0  3.601323e+12   3.893579e+07  \n",
      "1  0.0  42.71  19.61   7.90    0.0  1.720742e+12   2.361536e+07  \n",
      "2  0.0  42.71  19.61   7.90    0.0  1.087034e+12   9.585567e+06  \n",
      "3  0.0  51.73  20.93   8.27    0.0  4.765041e+12   3.928304e+07  \n",
      "4  0.0  51.73  20.93   8.27    0.0  1.074799e+12   1.509957e+07  \n",
      "\n",
      "[5 rows x 22 columns]\n"
     ]
    }
   ],
   "source": [
    "droughts = pd.read_csv(droughts_filepath)\n",
    "print(droughts.head())"
   ]
  },
  {
   "cell_type": "markdown",
   "metadata": {},
   "source": [
    "## Earthquakes"
   ]
  },
  {
   "cell_type": "code",
   "execution_count": 11,
   "metadata": {},
   "outputs": [
    {
     "name": "stdout",
     "output_type": "stream",
     "text": [
      "   OID_          id alert  cdi      code  \\\n",
      "0    26  usp000fstd   NaN  NaN  p000fstd   \n",
      "1    78  usp000fsq3   NaN  NaN  p000fsq3   \n",
      "2   330  nc40205250   NaN  3.9  40205250   \n",
      "3   335  usp000fs7c   NaN  NaN  p000fs7c   \n",
      "4   339  usp000fs74   NaN  NaN  p000fs74   \n",
      "\n",
      "                                              detail    dmin   felt  \\\n",
      "0  https://earthquake.usgs.gov/fdsnws/event/1/que...     NaN    NaN   \n",
      "1  https://earthquake.usgs.gov/fdsnws/event/1/que...     NaN    NaN   \n",
      "2  https://earthquake.usgs.gov/fdsnws/event/1/que...  0.1441  120.0   \n",
      "3  https://earthquake.usgs.gov/fdsnws/event/1/que...     NaN    NaN   \n",
      "4  https://earthquake.usgs.gov/fdsnws/event/1/que...     NaN    NaN   \n",
      "\n",
      "          gap                        ids  ...  \\\n",
      "0  171.399994  ,usp000fstd,ak007er8ynef,  ...   \n",
      "1  131.300003  ,usp000fsq3,ak007epffvna,  ...   \n",
      "2  255.000000    ,nc40205250,usp000fs7s,  ...   \n",
      "3  105.500000  ,usp000fs7c,ak007ednvg31,  ...   \n",
      "4  141.399994  ,usp000fs74,ak007eccb76d,  ...   \n",
      "\n",
      "                                               types            updated  \\\n",
      "0                    ,impact-text,origin,phase-data,  2/13/2019 7:43:25   \n",
      "1                    ,impact-text,origin,phase-data,  2/13/2019 7:43:06   \n",
      "2  ,dyfi,impact-text,moment-tensor,nearby-cities,...   5/2/2020 1:47:25   \n",
      "3                    ,impact-text,origin,phase-data,  2/13/2019 7:41:02   \n",
      "4                    ,impact-text,origin,phase-data,  2/13/2019 7:41:01   \n",
      "\n",
      "                                                 url   latitude   longitude  \\\n",
      "0  https://earthquake.usgs.gov/earthquakes/eventp...  52.786999 -167.621994   \n",
      "1  https://earthquake.usgs.gov/earthquakes/eventp...  50.334999 -177.647003   \n",
      "2  https://earthquake.usgs.gov/earthquakes/eventp...  40.576668 -124.472336   \n",
      "3  https://earthquake.usgs.gov/earthquakes/eventp...  51.127998 -179.121002   \n",
      "4  https://earthquake.usgs.gov/earthquakes/eventp...  51.673000 -175.552994   \n",
      "\n",
      "  elevation    kmDepth      depth            eventTime   eventType  \n",
      "0  -17200.0  17.200001  17.200001  11/17/2007 22:59:30  Earthquake  \n",
      "1  -35000.0  35.000000  35.000000  11/16/2007 12:54:24  Earthquake  \n",
      "2  -26217.0  26.216999  26.216999    11/9/2007 3:37:09  Earthquake  \n",
      "3  -22800.0  22.799999  22.799999    11/9/2007 1:11:14  Earthquake  \n",
      "4  -62500.0  62.500000  62.500000   11/8/2007 21:22:49  Earthquake  \n",
      "\n",
      "[5 rows x 34 columns]\n"
     ]
    }
   ],
   "source": [
    "earthquakes = pd.read_csv(earthquakes_filepath)\n",
    "print(earthquakes.head())"
   ]
  }
 ],
 "metadata": {
  "kernelspec": {
   "display_name": "Python 3",
   "language": "python",
   "name": "python3"
  },
  "language_info": {
   "codemirror_mode": {
    "name": "ipython",
    "version": 3
   },
   "file_extension": ".py",
   "mimetype": "text/x-python",
   "name": "python",
   "nbconvert_exporter": "python",
   "pygments_lexer": "ipython3",
   "version": "3.11.8"
  }
 },
 "nbformat": 4,
 "nbformat_minor": 2
}
