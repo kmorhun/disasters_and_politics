{
 "cells": [
  {
   "cell_type": "markdown",
   "metadata": {},
   "source": [
    "# Voting Analysis"
   ]
  },
  {
   "cell_type": "code",
   "execution_count": 1,
   "metadata": {
    "metadata": {}
   },
   "outputs": [],
   "source": [
    "import numpy as np\n",
    "import matplotlib.pyplot as plt\n",
    "import pandas as pd\n",
    "import geopandas as gpd\n",
    "import os\n",
    "from datetime import datetime"
   ]
  },
  {
   "cell_type": "code",
   "execution_count": 2,
   "metadata": {
    "metadata": {}
   },
   "outputs": [],
   "source": [
    "cwd = os.getcwd()\n",
    "date_format = \"%Y-%m-%d\"\n",
    "TORNADO_PATH = os.path.join(cwd, \"..\", \"data/tornadoes/US_tornadoes_2000_2022.csv\")\n",
    "TORNADO_SHAPEFILE = os.path.join(cwd, \"..\", \"data/geographic/US_tornadoes_1950_2022/US_tornadoes_1950_2022.shp\")\n",
    "COUNTIES_PATH = os.path.join(cwd, \"..\", \"data/counties/2018_counties.csv\")\n",
    "COUNTIES_SHAPEFILE = os.path.join(cwd, \"..\", \"data/geographic/cb_2018_us_county_5m/cb_2018_us_county_5m.shp\")\n",
    "INTERSECTION_PATH = os.path.join(cwd, \"..\", \"data/tornado_county_intersections.csv\")\n",
    "RESULTS_PATH = os.path.join(cwd, \"..\", \"data/results_2000s.csv\")"
   ]
  },
  {
   "cell_type": "markdown",
   "metadata": {},
   "source": [
    "# Naive Comparison"
   ]
  },
  {
   "cell_type": "code",
   "execution_count": 3,
   "metadata": {
    "metadata": {}
   },
   "outputs": [],
   "source": [
    "def getCountyVoteSet_FlatCount(data_vote,data_tornado,year):\n",
    "    output = np.array([[0.0,0]]* len(data_vote))\n",
    "    \n",
    "    i = 0\n",
    "    for row in data_vote.index:\n",
    "        \n",
    "        filter1 = data_tornado.loc[data_tornado[\"GEOID\"] == data_vote[\"fips\"][row]]\n",
    "        filter2 = filter1.loc[filter1[\"yr\"].isin(range(year-4,year+1))]\n",
    "        output[i,1] = len(filter2)\n",
    "        output[i,0] = data_vote[str(year)][row]\n",
    "        # print(i)\n",
    "        i+=1\n",
    "    \n",
    "    return output\n",
    "\n",
    "def getCountyVoteSet_CostAgg(data_vote,data_tornado,year):\n",
    "    output = np.array([[0.0,0]]* len(data_vote))\n",
    "    \n",
    "    i = 0\n",
    "    for row in data_vote.index:\n",
    "        \n",
    "        filter1 = data_tornado.loc[data_tornado[\"GEOID\"] == data_vote[\"fips\"][row]]\n",
    "        filter2 = filter1.loc[filter1[\"yr\"].isin(range(year-4,year+1))]\n",
    "        totalCost = sum(filter2[\"loss\"])\n",
    "        output[i,1] = totalCost\n",
    "        output[i,0] = data_vote[str(year)][row]\n",
    "        # print(i)\n",
    "        i+=1\n",
    "    \n",
    "    return output\n",
    "\n",
    "def getCountyVoteSet_Casualties(data_vote,data_tornado,year):\n",
    "    output = np.array([[0.0,0]]* len(data_vote))\n",
    "    \n",
    "    i = 0\n",
    "    for row in data_vote.index:\n",
    "        \n",
    "        filter1 = data_tornado.loc[data_tornado[\"GEOID\"] == data_vote[\"fips\"][row]]\n",
    "        filter2 = filter1.loc[filter1[\"yr\"].isin(range(year-4,year+1))]\n",
    "        totalCost = sum(filter2[\"inj\"]) + sum(filter2[\"fat\"])\n",
    "        output[i,1] = totalCost\n",
    "        output[i,0] = data_vote[str(year)][row]\n",
    "        # print(i)\n",
    "        i+=1\n",
    "    \n",
    "    return output\n",
    "\n",
    "    \n",
    "    \n"
   ]
  },
  {
   "cell_type": "code",
   "execution_count": 12,
   "metadata": {
    "metadata": {}
   },
   "outputs": [],
   "source": [
    "data_tornado = pd.read_csv(INTERSECTION_PATH)\n",
    "data_voting = pd.read_csv(RESULTS_PATH)\n",
    "\n",
    "# for year in range(2004, 2021, 4):\n",
    "#     dist_Dem = data_voting.loc[data_voting[str(year)].notnull()]\n",
    "#     scatters = getCountyVoteSet_Casualties(dist_Dem,data_tornado,year)\n",
    "#     print(year)\n",
    "#     plt.scatter(scatters[:,1],scatters[:,0])\n",
    "#     plt.title(f\"{year} Disaster/Voter Turnout\")\n",
    "#     plt.ylabel(\"% Democrat Share\")\n",
    "#     plt.xlabel(\"Injuries and Fatalities\")\n",
    "#     plt.show()\n",
    "    \n",
    "    \n",
    "# for year in range(2004, 2021, 4):\n",
    "#     dist_Dem = data_voting.loc[data_voting[str(year)].notnull()]\n",
    "    \n",
    "#     scatters = getCountyVoteSet_CostAgg(dist_Dem,data_tornado,year)\n",
    "#     print(year)\n",
    "#     plt.scatter(scatters[:,1],scatters[:,0])\n",
    "#     plt.title(f\"{year} Tornado/Voter Turnout\")\n",
    "#     plt.ylabel(\"% Democrat Share\")\n",
    "#     plt.xlabel(\"Monetary Loss\")\n",
    "#     plt.show()\n",
    "    \n",
    "# for year in range(2004, 2021, 4):\n",
    "#     dist_Dem = data_voting.loc[data_voting[str(year)].notnull()]\n",
    "#     scatters = getCountyVoteSet_FlatCount(dist_Dem,data_tornado,year)\n",
    "#     print(year)\n",
    "#     plt.scatter(scatters[:,1],scatters[:,0])\n",
    "#     plt.title(f\"{year} Tornado/Voter Turnout\")\n",
    "#     plt.ylabel(\"% Democrat Share\")\n",
    "#     plt.xlabel(\"Total tornadoes\")\n",
    "#     plt.show()\n",
    "    \n",
    "\n"
   ]
  },
  {
   "cell_type": "markdown",
   "metadata": {},
   "source": [
    "# Deviation Analysis"
   ]
  },
  {
   "cell_type": "code",
   "execution_count": 22,
   "metadata": {},
   "outputs": [],
   "source": [
    "\n",
    "\n",
    "def getCountyVoteSet_MinDeath(data_tornado):\n",
    "\n",
    "\n",
    "    filter1 = data_tornado[data_tornado[\"fat\"] > 20]\n",
    "    print(filter1)\n",
    "\n",
    "def getCountyVoteSet_Money(data_tornado):\n",
    "\n",
    "\n",
    "    filter1 = data_tornado[data_tornado[\"loss\"] > 10000000]\n",
    "    print(filter1)\n",
    "\n",
    "\n",
    "data_tornado = pd.read_csv(TORNADO_PATH)\n",
    "data_voting = pd.read_csv(RESULTS_PATH)\n",
    "# getCountyVoteSet_Money(data_tornado)\n"
   ]
  },
  {
   "cell_type": "code",
   "execution_count": null,
   "metadata": {},
   "outputs": [],
   "source": [
    "def find_synth(data_vote, data_tornado, county, election_year):\n",
    "    \"\"\"\n",
    "    Find a set of counties that can act as a synthetic control for a county, having similar stats, and being far enough away.\n",
    "    Omit the year that is being observed\n",
    "    \"\"\"\n",
    "    pass\n",
    "    "
   ]
  }
 ],
 "metadata": {
  "kernelspec": {
   "display_name": ".venv",
   "language": "python",
   "name": "python3"
  },
  "language_info": {
   "codemirror_mode": {
    "name": "ipython",
    "version": 3
   },
   "file_extension": ".py",
   "mimetype": "text/x-python",
   "name": "python",
   "nbconvert_exporter": "python",
   "pygments_lexer": "ipython3",
   "version": "3.11.8"
  }
 },
 "nbformat": 4,
 "nbformat_minor": 2
}
