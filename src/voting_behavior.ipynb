{
 "cells": [
  {
   "cell_type": "markdown",
   "metadata": {},
   "source": [
    "# Voting Analysis"
   ]
  },
  {
   "cell_type": "code",
   "execution_count": 1,
   "metadata": {
    "metadata": {}
   },
   "outputs": [],
   "source": [
    "import numpy as np\n",
    "import matplotlib.pyplot as plt\n",
    "import pandas as pd\n",
    "import geopandas as gpd\n",
    "import os\n",
    "from datetime import datetime"
   ]
  },
  {
   "cell_type": "code",
   "execution_count": 39,
   "metadata": {
    "metadata": {}
   },
   "outputs": [],
   "source": [
    "cwd = os.getcwd()\n",
    "date_format = \"%Y-%m-%d\"\n",
    "TORNADO_PATH = os.path.join(cwd, \"..\", \"data/tornadoes/US_tornadoes_2000_2022.csv\")\n",
    "TORNADO_SHAPEFILE = os.path.join(cwd, \"..\", \"data/geographic/US_tornadoes_1950_2022/US_tornadoes_1950_2022.shp\")\n",
    "COUNTIES_PATH = os.path.join(cwd, \"..\", \"data/counties/2018_counties.csv\")\n",
    "COUNTIES_SHAPEFILE = os.path.join(cwd, \"..\", \"data/geographic/cb_2018_us_county_5m/cb_2018_us_county_5m.shp\")\n",
    "INTERSECTION_PATH = os.path.join(cwd, \"..\", \"data/tornado_county_intersections.csv\")\n",
    "PERCENT_PATH = os.path.join(cwd, \"..\", \"data/tornadoes_and_counties_new.csv\")\n",
    "RESULTS_PATH = os.path.join(cwd, \"..\", \"data/results_2000s.csv\")"
   ]
  },
  {
   "cell_type": "markdown",
   "metadata": {},
   "source": [
    "# Naive Comparison"
   ]
  },
  {
   "cell_type": "code",
   "execution_count": 3,
   "metadata": {
    "metadata": {}
   },
   "outputs": [],
   "source": [
    "def getCountyVoteSet_FlatCount(data_vote,data_tornado,year):\n",
    "    output = np.array([[0.0,0]]* len(data_vote))\n",
    "    \n",
    "    i = 0\n",
    "    for row in data_vote.index:\n",
    "        \n",
    "        filter1 = data_tornado.loc[data_tornado[\"GEOID\"] == data_vote[\"fips\"][row]]\n",
    "        filter2 = filter1.loc[filter1[\"yr\"].isin(range(year-4,year+1))]\n",
    "        output[i,1] = len(filter2)\n",
    "        output[i,0] = data_vote[str(year)][row]\n",
    "        # print(i)\n",
    "        i+=1\n",
    "    \n",
    "    return output\n",
    "\n",
    "def getCountyVoteSet_CostAgg(data_vote,data_tornado,year):\n",
    "    output = np.array([[0.0,0]]* len(data_vote))\n",
    "    \n",
    "    i = 0\n",
    "    for row in data_vote.index:\n",
    "        \n",
    "        filter1 = data_tornado.loc[data_tornado[\"GEOID\"] == data_vote[\"fips\"][row]]\n",
    "        filter2 = filter1.loc[filter1[\"yr\"].isin(range(year-4,year+1))]\n",
    "        totalCost = sum(filter2[\"loss\"])\n",
    "        output[i,1] = totalCost\n",
    "        output[i,0] = data_vote[str(year)][row]\n",
    "        # print(i)\n",
    "        i+=1\n",
    "    \n",
    "    return output\n",
    "\n",
    "def getCountyVoteSet_Casualties(data_vote,data_tornado,year):\n",
    "    output = np.array([[0.0,0]]* len(data_vote))\n",
    "    \n",
    "    i = 0\n",
    "    for row in data_vote.index:\n",
    "        \n",
    "        filter1 = data_tornado.loc[data_tornado[\"GEOID\"] == data_vote[\"fips\"][row]]\n",
    "        filter2 = filter1.loc[filter1[\"yr\"].isin(range(year-4,year+1))]\n",
    "        totalCost = sum(filter2[\"inj\"]) + sum(filter2[\"fat\"])\n",
    "        output[i,1] = totalCost\n",
    "        output[i,0] = data_vote[str(year)][row]\n",
    "        # print(i)\n",
    "        i+=1\n",
    "    \n",
    "    return output\n",
    "\n",
    "    \n",
    "    \n"
   ]
  },
  {
   "cell_type": "code",
   "execution_count": 12,
   "metadata": {
    "metadata": {}
   },
   "outputs": [],
   "source": [
    "data_tornado = pd.read_csv(INTERSECTION_PATH)\n",
    "data_voting = pd.read_csv(RESULTS_PATH)\n",
    "\n",
    "# for year in range(2004, 2021, 4):\n",
    "#     dist_Dem = data_voting.loc[data_voting[str(year)].notnull()]\n",
    "#     scatters = getCountyVoteSet_Casualties(dist_Dem,data_tornado,year)\n",
    "#     print(year)\n",
    "#     plt.scatter(scatters[:,1],scatters[:,0])\n",
    "#     plt.title(f\"{year} Disaster/Voter Turnout\")\n",
    "#     plt.ylabel(\"% Democrat Share\")\n",
    "#     plt.xlabel(\"Injuries and Fatalities\")\n",
    "#     plt.show()\n",
    "    \n",
    "    \n",
    "# for year in range(2004, 2021, 4):\n",
    "#     dist_Dem = data_voting.loc[data_voting[str(year)].notnull()]\n",
    "    \n",
    "#     scatters = getCountyVoteSet_CostAgg(dist_Dem,data_tornado,year)\n",
    "#     print(year)\n",
    "#     plt.scatter(scatters[:,1],scatters[:,0])\n",
    "#     plt.title(f\"{year} Tornado/Voter Turnout\")\n",
    "#     plt.ylabel(\"% Democrat Share\")\n",
    "#     plt.xlabel(\"Monetary Loss\")\n",
    "#     plt.show()\n",
    "    \n",
    "# for year in range(2004, 2021, 4):\n",
    "#     dist_Dem = data_voting.loc[data_voting[str(year)].notnull()]\n",
    "#     scatters = getCountyVoteSet_FlatCount(dist_Dem,data_tornado,year)\n",
    "#     print(year)\n",
    "#     plt.scatter(scatters[:,1],scatters[:,0])\n",
    "#     plt.title(f\"{year} Tornado/Voter Turnout\")\n",
    "#     plt.ylabel(\"% Democrat Share\")\n",
    "#     plt.xlabel(\"Total tornadoes\")\n",
    "#     plt.show()\n",
    "    \n",
    "\n"
   ]
  },
  {
   "cell_type": "markdown",
   "metadata": {},
   "source": [
    "# Synthetic Control"
   ]
  },
  {
   "cell_type": "code",
   "execution_count": 60,
   "metadata": {},
   "outputs": [
    {
     "name": "stdout",
     "output_type": "stream",
     "text": [
      "           om        date  st  fat   inj  GEOID  pct_of_tornado\n",
      "46328     600  2000-12-16  AL   11   144   1125         100.000\n",
      "46385     634  2000-02-13  GA   11   175  13205         100.000\n",
      "47332    1050  2000-09-20  OH    1   100  39057         100.000\n",
      "49923      47  2003-03-20  GA    6   200  13205          84.751\n",
      "53533    1253  2005-11-06  KY   24   238  18173          50.309\n",
      "55402     299  2006-04-07  TN    7   128  47165          83.843\n",
      "57921     541  2008-04-28  VA    0   200  51800          67.021\n",
      "58002     666  2008-05-10  OK   21   350  40115          30.463\n",
      "58004     666  2008-05-10  OK   21   350  29145          40.670\n",
      "63000  314625  2011-04-27  AL   64  1500   1125          50.371\n",
      "63001  314625  2011-04-27  AL   64  1500   1073          40.887\n",
      "63002  314625  2011-04-27  AL   64  1500   1063           8.713\n",
      "63069  305268  2011-04-27  GA   20   335  47011          44.850\n",
      "63395  296616  2011-05-22  MO  158  1150  29145         100.000\n",
      "63461  315837  2011-05-24  OK    9   181  40017          58.964\n",
      "63829  323440  2011-06-01  MA    3   200  25013          80.874\n",
      "65700  451537  2013-05-20  OK   24   212  40027          75.527\n",
      "66464  504758  2014-04-27  AR   16   193   5045          57.107\n",
      "67473  606471  2015-12-26  TX   10   468  48397          24.125\n",
      "67474  606471  2015-12-26  TX   10   468  48113          75.919\n",
      "67476  606480  2015-12-26  TX    2   119  48085         100.000\n",
      "73674  617886  2019-05-27  OH    0   166  39113         100.000\n",
      "74676  618678  2020-03-03  TN    5   220  47189          45.156\n",
      "74681  618680  2020-03-03  TN   19    87  47141         100.000\n",
      "75859  620750  2021-12-10  TN   57   515  21183          17.880\n",
      "25\n"
     ]
    }
   ],
   "source": [
    "\n",
    "\n",
    "def getTornadoSet_Cas(data_tornado, min_cas):\n",
    "\n",
    "    filter1 = data_tornado[(data_tornado[\"fat\"] + data_tornado[\"inj\"]) * data_tornado[\"pct_of_tornado\"]/100.0 >= min_cas]\n",
    "    filter2 = filter1[filter1[\"yr\"]>=2000]\n",
    "    # print(filter2[[\"om\",\"date\",\"st\",\"fat\",\"inj\",\"GEOID\",\"pct_of_tornado\"]])\n",
    "    \n",
    "    return filter2\n",
    "\n",
    "\n",
    "\n",
    "# data_tornado = pd.read_csv(TORNADO_PATH)\n",
    "data_tornado = pd.read_csv(PERCENT_PATH)\n",
    "data_voting = pd.read_csv(RESULTS_PATH)\n",
    "tornadoSet = getTornadoSet_Cas(data_tornado,100)\n",
    "print(tornadoSet[[\"om\",\"date\",\"st\",\"fat\",\"inj\",\"GEOID\",\"pct_of_tornado\"]])\n",
    "print(len(tornadoSet))\n"
   ]
  },
  {
   "cell_type": "code",
   "execution_count": 59,
   "metadata": {},
   "outputs": [],
   "source": [
    "def nextElection(year):\n",
    "    \"\"\"\n",
    "    Find next election year after the current year\n",
    "    Will need to filter out tornadoes that occur between voting day and inauguration\n",
    "    \"\"\"\n",
    "    \n",
    "    yearSet = {2004,2008,2014,2016,2020}\n",
    "    curYear = int(year)\n",
    "    while not curYear in yearSet:\n",
    "        curYear+=1\n",
    "    return curYear\n",
    "     \n",
    "def find_synth(data_vote, data_tornado, county, election_year):\n",
    "    \"\"\"\n",
    "    Find a set of counties that can act as a synthetic control for a county, having similar stats, and being far enough away.\n",
    "    Omit the year that is being observed.\n",
    "    \"\"\"\n",
    "    \n",
    "    pass\n",
    "\n",
    "def testTornadoSimilarity(data_tornado, county1, county2, capYear, significance):\n",
    "    \"\"\"\n",
    "    Test if the tornado data between two counties is similar prior to the \"treatment\" year \n",
    "    \"\"\"\n",
    "    \n",
    "    County1Tornadoes = data_tornado[data_tornado[\"GEOID\"]==county1]\n",
    "    County2Tornadoes = data_tornado[data_tornado[\"GEOID\"]==county2]\n",
    "    \n",
    "    County1Filtered = County1Tornadoes[int(County1Tornadoes[\"yr\"]) < capYear]\n",
    "    County2Filtered = County2Tornadoes[int(County2Tornadoes[\"yr\"]) < capYear]\n",
    "    \n",
    "    pass\n",
    "\n",
    "def testVoteSimilarity(data_voting, county1, county2, capYear, significance):\n",
    "    \"\"\"\n",
    "    Test if the voter share data between two counties is similar prior to the \"treatment\" year \n",
    "    \"\"\"\n",
    "    \n",
    "    County1Votes = data_voting[data_voting[\"fips\"]==county1]\n",
    "    County2Votes = data_voting[data_voting[\"fips\"]==county2]\n",
    "    \n",
    "    pass\n",
    "    \n",
    "    \n",
    "    \n",
    "    "
   ]
  },
  {
   "cell_type": "code",
   "execution_count": null,
   "metadata": {},
   "outputs": [],
   "source": []
  }
 ],
 "metadata": {
  "kernelspec": {
   "display_name": ".venv",
   "language": "python",
   "name": "python3"
  },
  "language_info": {
   "codemirror_mode": {
    "name": "ipython",
    "version": 3
   },
   "file_extension": ".py",
   "mimetype": "text/x-python",
   "name": "python",
   "nbconvert_exporter": "python",
   "pygments_lexer": "ipython3",
   "version": "3.11.8"
  }
 },
 "nbformat": 4,
 "nbformat_minor": 2
}
