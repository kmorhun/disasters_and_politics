{
 "cells": [
  {
   "cell_type": "markdown",
   "metadata": {},
   "source": [
    "# Voting Analysis"
   ]
  },
  {
   "cell_type": "code",
   "execution_count": 1,
   "metadata": {
    "metadata": {}
   },
   "outputs": [],
   "source": [
    "import numpy as np\n",
    "import matplotlib as plt\n",
    "import pandas as pd\n",
    "import geopandas as gpd\n",
    "import os\n",
    "from datetime import datetime"
   ]
  },
  {
   "cell_type": "code",
   "execution_count": 2,
   "metadata": {
    "metadata": {}
   },
   "outputs": [],
   "source": [
    "cwd = os.getcwd()\n",
    "date_format = \"%Y-%m-%d\"\n",
    "TORNADO_PATH = os.path.join(cwd, \"../..\", \"data/tornadoes/US_tornadoes_2000_2022.csv\")\n",
    "TORNADO_SHAPEFILE = os.path.join(cwd, \"../..\", \"data/geographic/US_tornadoes_1950_2022/US_tornadoes_1950_2022.shp\")\n",
    "COUNTIES_PATH = os.path.join(cwd, \"../..\", \"data/counties/2018_counties.csv\")\n",
    "COUNTIES_SHAPEFILE = os.path.join(cwd, \"../..\", \"data/geographic/cb_2018_us_county_5m/cb_2018_us_county_5m.shp\")\n",
    "INTERSECTION_PATH = os.path.join(cwd, \"../..\", \"data/tornado_county_intersections.csv\")"
   ]
  },
  {
   "cell_type": "markdown",
   "metadata": {},
   "source": [
    "# Naive Comparison"
   ]
  },
  {
   "cell_type": "code",
   "execution_count": null,
   "metadata": {},
   "outputs": [],
   "source": [
    "def getTornadoSetByCounty(data,countySet,year):\n",
    "    return data.loc[data[\"COUNTYNS\"] in countySet and int(data[\"year\"])==year]"
   ]
  },
  {
   "cell_type": "code",
   "execution_count": null,
   "metadata": {},
   "outputs": [],
   "source": [
    "# data_tornado = pd.read_csv(INTERSECTION_PATH)\n",
    "# data_voting = pd.read_csv()\n",
    "# tornadoes_Dem = []\n",
    "# tornadoes_Rep = []\n",
    "# for year in range(2000, 2020, 2):\n",
    "#     dist_Dem = data_voting.loc[data_voting[\"\"] == \"Dem\"][\"id\"]\n",
    "#     dist_Rep = data_voting.loc[data_voting[\"\"] == \"Rep\"][\"id\"]\n",
    "#     tornado_set_Dem = getTornadoSetByCounty(data_tornado, set(dist_Dem), year)\n",
    "#     tornado_set_Rep = getTornadoSetByCounty(data_tornado, set(dist_Rep), year)\n",
    "#     tornadoes_Dem.append(len(tornado_set_Dem))\n",
    "#     tornadoes_Rep.append(len(tornado_set_Rep))\n",
    "    \n",
    "# plt.plot(tornadoes_Dem,range(len(tornadoes_Dem)), \"Democrat\")\n",
    "# plt.plot(tornadoes_Rep,range(len(tornadoes_Dem)), \"Republican\")\n"
   ]
  },
  {
   "cell_type": "code",
   "execution_count": null,
   "metadata": {},
   "outputs": [],
   "source": []
  }
 ],
 "metadata": {
  "kernelspec": {
   "display_name": ".venv",
   "language": "python",
   "name": "python3"
  },
  "language_info": {
   "codemirror_mode": {
    "name": "ipython",
    "version": 3
   },
   "file_extension": ".py",
   "mimetype": "text/x-python",
   "name": "python",
   "nbconvert_exporter": "python",
   "pygments_lexer": "ipython3",
   "version": "3.11.8"
  }
 },
 "nbformat": 4,
 "nbformat_minor": 2
}
