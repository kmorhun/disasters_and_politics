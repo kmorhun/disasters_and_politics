{
 "cells": [
  {
   "cell_type": "markdown",
   "metadata": {},
   "source": [
    "# Voting Analysis"
   ]
  },
  {
   "cell_type": "code",
   "execution_count": 1,
   "metadata": {},
   "outputs": [],
   "source": [
    "import numpy as np\n",
    "import matplotlib as plt\n",
    "import pandas as pd\n",
    "import geopandas as gpd\n",
    "import os\n",
    "from datetime import datetime"
   ]
  },
  {
   "cell_type": "code",
   "execution_count": null,
   "metadata": {},
   "outputs": [],
   "source": [
    "cwd = os.getcwd()\n",
    "date_format = \"%Y-%m-%d\"\n",
    "TORNADO_PATH = os.path.join(cwd, \"../..\", \"data/tornadoes/US_tornadoes_2000_2022.csv\")\n",
    "TORNADO_SHAPEFILE = os.path.join(cwd, \"../..\", \"data/geographic/US_tornadoes_1950_2022/US_tornadoes_1950_2022.shp\")\n",
    "COUNTIES_PATH = os.path.join(cwd, \"../..\", \"data/counties/2018_counties.csv\")\n",
    "COUNTIES_SHAPEFILE = os.path.join(cwd, \"../..\", \"data/geographic/cb_2018_us_county_5m/cb_2018_us_county_5m.shp\")\n",
    "INTERSECTION_PATH = os.path.join(cwd, \"../..\", \"data/tornado_county_intersections.csv\")"
   ]
  }
 ],
 "metadata": {
  "kernelspec": {
   "display_name": ".venv",
   "language": "python",
   "name": "python3"
  },
  "language_info": {
   "codemirror_mode": {
    "name": "ipython",
    "version": 3
   },
   "file_extension": ".py",
   "mimetype": "text/x-python",
   "name": "python",
   "nbconvert_exporter": "python",
   "pygments_lexer": "ipython3",
   "version": "3.11.8"
  }
 },
 "nbformat": 4,
 "nbformat_minor": 2
}
